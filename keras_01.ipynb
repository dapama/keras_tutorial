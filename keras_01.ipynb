{
 "cells": [
  {
   "cell_type": "code",
   "execution_count": 1,
   "metadata": {},
   "outputs": [],
   "source": [
    "import numpy as np\n",
    "import sklearn as sk\n",
    "from random import randint\n",
    "from sklearn.preprocessing import MinMaxScaler"
   ]
  },
  {
   "cell_type": "code",
   "execution_count": 2,
   "metadata": {},
   "outputs": [],
   "source": [
    "train_labels = []\n",
    "train_samples = []"
   ]
  },
  {
   "cell_type": "code",
   "execution_count": 3,
   "metadata": {},
   "outputs": [],
   "source": [
    "for i in range(1000):\n",
    "    train_samples.append( randint(13,64) )\n",
    "    train_labels.append( 0 )\n",
    "    \n",
    "for i in range(1000):\n",
    "    train_samples.append( randint(65,100) )\n",
    "    train_labels.append( 1 )\n",
    "\n",
    "for i in range(50):\n",
    "    train_samples.append( randint(13,64) )\n",
    "    train_labels.append( 1 )\n",
    "    \n",
    "for i in range(50):\n",
    "    train_samples.append( randint(65,100) )\n",
    "    train_labels.append( 0 )    "
   ]
  },
  {
   "cell_type": "code",
   "execution_count": 4,
   "metadata": {},
   "outputs": [],
   "source": [
    "train_labels = np.array( train_labels )\n",
    "train_samples = np.array( train_samples )"
   ]
  },
  {
   "cell_type": "code",
   "execution_count": 5,
   "metadata": {},
   "outputs": [],
   "source": [
    "scaler = MinMaxScaler( feature_range = ( 0,1 ) )\n",
    "scaled_train_samples =  scaler.fit_transform( ( train_samples ).reshape( -1, 1 ))"
   ]
  },
  {
   "cell_type": "code",
   "execution_count": 6,
   "metadata": {
    "scrolled": true
   },
   "outputs": [
    {
     "name": "stderr",
     "output_type": "stream",
     "text": [
      "Using TensorFlow backend.\n"
     ]
    }
   ],
   "source": [
    "import keras\n",
    "from keras import backend as K\n",
    "from keras.models import Sequential\n",
    "from keras.layers import Activation\n",
    "from keras.layers.core import Dense\n",
    "from keras.optimizers import Adam\n",
    "from keras.metrics import categorical_crossentropy"
   ]
  },
  {
   "cell_type": "code",
   "execution_count": 17,
   "metadata": {},
   "outputs": [],
   "source": [
    "model = Sequential( [\n",
    "    Dense( 16, input_shape = ( 1, ), activation = 'relu' ),\n",
    "    Dense( 32, activation = 'relu' ),\n",
    "    Dense( 2, activation = 'softmax' )\n",
    "] )"
   ]
  },
  {
   "cell_type": "code",
   "execution_count": 18,
   "metadata": {
    "collapsed": true
   },
   "outputs": [
    {
     "name": "stdout",
     "output_type": "stream",
     "text": [
      "Model: \"sequential_3\"\n",
      "_________________________________________________________________\n",
      "Layer (type)                 Output Shape              Param #   \n",
      "=================================================================\n",
      "dense_7 (Dense)              (None, 16)                32        \n",
      "_________________________________________________________________\n",
      "dense_8 (Dense)              (None, 32)                544       \n",
      "_________________________________________________________________\n",
      "dense_9 (Dense)              (None, 2)                 66        \n",
      "=================================================================\n",
      "Total params: 642\n",
      "Trainable params: 642\n",
      "Non-trainable params: 0\n",
      "_________________________________________________________________\n"
     ]
    }
   ],
   "source": [
    "model.summary()"
   ]
  },
  {
   "cell_type": "code",
   "execution_count": 19,
   "metadata": {},
   "outputs": [],
   "source": [
    "model.compile( Adam( lr = .0001 ), loss = 'sparse_categorical_crossentropy', \n",
    "                     metrics = ['accuracy'] )"
   ]
  },
  {
   "cell_type": "code",
   "execution_count": 20,
   "metadata": {
    "collapsed": true
   },
   "outputs": [
    {
     "name": "stdout",
     "output_type": "stream",
     "text": [
      "Train on 1680 samples, validate on 420 samples\n",
      "Epoch 1/20\n",
      " - 1s - loss: 0.7052 - accuracy: 0.5952 - val_loss: 0.7378 - val_accuracy: 0.1190\n",
      "Epoch 2/20\n",
      " - 0s - loss: 0.6854 - accuracy: 0.5952 - val_loss: 0.7192 - val_accuracy: 0.1190\n",
      "Epoch 3/20\n",
      " - 0s - loss: 0.6645 - accuracy: 0.6839 - val_loss: 0.6962 - val_accuracy: 0.5190\n",
      "Epoch 4/20\n",
      " - 0s - loss: 0.6409 - accuracy: 0.9083 - val_loss: 0.6805 - val_accuracy: 0.6738\n",
      "Epoch 5/20\n",
      " - 0s - loss: 0.6133 - accuracy: 0.9720 - val_loss: 0.6569 - val_accuracy: 0.7643\n",
      "Epoch 6/20\n",
      " - 0s - loss: 0.5823 - accuracy: 0.9839 - val_loss: 0.6403 - val_accuracy: 0.7667\n",
      "Epoch 7/20\n",
      " - 0s - loss: 0.5479 - accuracy: 0.9792 - val_loss: 0.6198 - val_accuracy: 0.7690\n",
      "Epoch 8/20\n",
      " - 0s - loss: 0.5104 - accuracy: 0.9702 - val_loss: 0.6090 - val_accuracy: 0.7690\n",
      "Epoch 9/20\n",
      " - 0s - loss: 0.4711 - accuracy: 0.9768 - val_loss: 0.5930 - val_accuracy: 0.7690\n",
      "Epoch 10/20\n",
      " - 0s - loss: 0.4319 - accuracy: 0.9714 - val_loss: 0.5823 - val_accuracy: 0.7690\n",
      "Epoch 11/20\n",
      " - 0s - loss: 0.3932 - accuracy: 0.9708 - val_loss: 0.5817 - val_accuracy: 0.7667\n",
      "Epoch 12/20\n",
      " - 0s - loss: 0.3567 - accuracy: 0.9815 - val_loss: 0.5780 - val_accuracy: 0.7667\n",
      "Epoch 13/20\n",
      " - 0s - loss: 0.3233 - accuracy: 0.9810 - val_loss: 0.5813 - val_accuracy: 0.7667\n",
      "Epoch 14/20\n",
      " - 0s - loss: 0.2932 - accuracy: 0.9810 - val_loss: 0.5910 - val_accuracy: 0.7667\n",
      "Epoch 15/20\n",
      " - 0s - loss: 0.2665 - accuracy: 0.9875 - val_loss: 0.5920 - val_accuracy: 0.7667\n",
      "Epoch 16/20\n",
      " - 0s - loss: 0.2433 - accuracy: 0.9845 - val_loss: 0.6054 - val_accuracy: 0.7667\n",
      "Epoch 17/20\n",
      " - 0s - loss: 0.2230 - accuracy: 0.9863 - val_loss: 0.6214 - val_accuracy: 0.7643\n",
      "Epoch 18/20\n",
      " - 0s - loss: 0.2054 - accuracy: 0.9875 - val_loss: 0.6379 - val_accuracy: 0.7643\n",
      "Epoch 19/20\n",
      " - 0s - loss: 0.1900 - accuracy: 0.9887 - val_loss: 0.6520 - val_accuracy: 0.7643\n",
      "Epoch 20/20\n",
      " - 0s - loss: 0.1766 - accuracy: 0.9911 - val_loss: 0.6728 - val_accuracy: 0.7643\n"
     ]
    },
    {
     "data": {
      "text/plain": [
       "<keras.callbacks.callbacks.History at 0x7f98d06540d0>"
      ]
     },
     "execution_count": 20,
     "metadata": {},
     "output_type": "execute_result"
    }
   ],
   "source": [
    "model.fit( scaled_train_samples, train_labels, validation_split = 0.2, batch_size = 10, \n",
    "           epochs = 20, shuffle = True, verbose = 2)"
   ]
  },
  {
   "cell_type": "code",
   "execution_count": 21,
   "metadata": {},
   "outputs": [],
   "source": [
    "test_labels = []\n",
    "test_samples = []"
   ]
  },
  {
   "cell_type": "code",
   "execution_count": 22,
   "metadata": {},
   "outputs": [],
   "source": [
    "for i in range(10):\n",
    "    test_samples.append( randint(13,64) )\n",
    "    test_labels.append( 0 )\n",
    "    \n",
    "for i in range(10):\n",
    "    test_samples.append( randint(65,100) )\n",
    "    test_labels.append( 1 )\n",
    "\n",
    "for i in range(200):\n",
    "    test_samples.append( randint(13,64) )\n",
    "    test_labels.append( 1 )\n",
    "    \n",
    "for i in range(200):\n",
    "    test_samples.append( randint(65,100) )\n",
    "    test_labels.append( 0 )    "
   ]
  },
  {
   "cell_type": "code",
   "execution_count": 23,
   "metadata": {},
   "outputs": [],
   "source": [
    "test_labels = np.array( test_labels )\n",
    "test_samples = np.array( test_samples )"
   ]
  },
  {
   "cell_type": "code",
   "execution_count": 24,
   "metadata": {},
   "outputs": [],
   "source": [
    "scaler = MinMaxScaler( feature_range = ( 0,1 ) )\n",
    "scaled_test_samples =  scaler.fit_transform( ( test_samples ).reshape( -1, 1 ))"
   ]
  },
  {
   "cell_type": "code",
   "execution_count": 25,
   "metadata": {},
   "outputs": [],
   "source": [
    "predictions = model.predict( scaled_test_samples, batch_size = 10, verbose = 0 )"
   ]
  },
  {
   "cell_type": "code",
   "execution_count": 27,
   "metadata": {},
   "outputs": [],
   "source": [
    "rounded_predictions = model.predict_classes( scaled_test_samples, batch_size = 10, verbose = 0 )"
   ]
  },
  {
   "cell_type": "code",
   "execution_count": null,
   "metadata": {},
   "outputs": [],
   "source": []
  },
  {
   "cell_type": "code",
   "execution_count": null,
   "metadata": {},
   "outputs": [],
   "source": []
  }
 ],
 "metadata": {
  "kernelspec": {
   "display_name": "keras_tutorial",
   "language": "python",
   "name": "keras_tutorial"
  },
  "language_info": {
   "codemirror_mode": {
    "name": "ipython",
    "version": 3
   },
   "file_extension": ".py",
   "mimetype": "text/x-python",
   "name": "python",
   "nbconvert_exporter": "python",
   "pygments_lexer": "ipython3",
   "version": "3.7.6"
  }
 },
 "nbformat": 4,
 "nbformat_minor": 2
}
